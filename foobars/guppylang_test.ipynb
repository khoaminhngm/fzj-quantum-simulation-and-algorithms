{
 "cells": [
  {
   "cell_type": "code",
   "execution_count": 1,
   "metadata": {},
   "outputs": [],
   "source": [
    "from guppylang import guppy\n",
    "from guppylang.std.builtins import owned\n",
    "from guppylang.std.quantum import cx, h, measure, qubit, x, z"
   ]
  },
  {
   "cell_type": "markdown",
   "metadata": {},
   "source": [
    "# 1. Test Docs code"
   ]
  },
  {
   "cell_type": "markdown",
   "metadata": {},
   "source": [
    "## 1.1 Quantum Teleportation\n",
    "\"Quantum teleportation is a technique for transferring quantum information from a sender at one location to a receiver some distance away. While teleportation is commonly portrayed in science fiction as a means to transfer physical objects from one location to the next, quantum teleportation only transfers quantum information.\""
   ]
  },
  {
   "cell_type": "code",
   "execution_count": 2,
   "metadata": {},
   "outputs": [],
   "source": [
    "@guppy\n",
    "def teleport(src: qubit @owned, tgt: qubit) -> None:\n",
    "    \"\"\"Teleports the state in `src` to `tgt`.\"\"\"\n",
    "    # Create ancilla and entangle it with src and tgt\n",
    "    tmp = qubit()\n",
    "    h(tmp)\n",
    "    cx(tmp, tgt) # cx is CNOT btw - |ψ⟩ on q1 is control and bell state on q2 is target - see notes\n",
    "    cx(src, tmp)\n",
    "\n",
    "    # Apply classical corrections\n",
    "    h(src)\n",
    "    if measure(src):\n",
    "        z(tgt)\n",
    "    if measure(tmp):\n",
    "        x(tgt)"
   ]
  },
  {
   "cell_type": "code",
   "execution_count": 3,
   "metadata": {},
   "outputs": [],
   "source": [
    "from guppylang.std.builtins import result\n",
    "\n",
    "@guppy\n",
    "def teleport_one_state() -> None:\n",
    "    src = qubit()\n",
    "    tgt = qubit()\n",
    "\n",
    "    # Let's teleport the |1> state\n",
    "    x(src)\n",
    "    teleport(src, tgt)\n",
    "\n",
    "    result(\"teleported\", measure(tgt))"
   ]
  },
  {
   "cell_type": "code",
   "execution_count": 4,
   "metadata": {},
   "outputs": [
    {
     "data": {
      "text/plain": [
       "[QsysShot(entries=[('teleported', 1)])]"
      ]
     },
     "execution_count": 4,
     "metadata": {},
     "output_type": "execute_result"
    }
   ],
   "source": [
    "sim_result = teleport_one_state.emulator(n_qubits=3).stabilizer_sim().with_seed(2).run()\n",
    "list(sim_result.results)"
   ]
  }
 ],
 "metadata": {
  "kernelspec": {
   "display_name": "guppylang",
   "language": "python",
   "name": "python3"
  },
  "language_info": {
   "codemirror_mode": {
    "name": "ipython",
    "version": 3
   },
   "file_extension": ".py",
   "mimetype": "text/x-python",
   "name": "python",
   "nbconvert_exporter": "python",
   "pygments_lexer": "ipython3",
   "version": "3.13.7"
  }
 },
 "nbformat": 4,
 "nbformat_minor": 2
}
