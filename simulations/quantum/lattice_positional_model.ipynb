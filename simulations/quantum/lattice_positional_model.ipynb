{
 "cells": [
  {
   "cell_type": "markdown",
   "metadata": {},
   "source": [
    "# Quantum Simulation of a free Schrödinger Wave\n",
    "This implementation is based upon the paper **\"Simulating Quantum Mechanics on a Quantum Computer\"** attached in /research"
   ]
  },
  {
   "cell_type": "code",
   "execution_count": 76,
   "metadata": {},
   "outputs": [],
   "source": [
    "from qiskit import QuantumCircuit\n",
    "import numpy as np\n",
    "from qiskit_aer import QasmSimulator"
   ]
  },
  {
   "cell_type": "markdown",
   "metadata": {},
   "source": [
    "## 1. State Preparation\n",
    "Using a recursive controlled rotation algorithm, we match the amplitudes of each qubit state with the given discretized values of the wave equation"
   ]
  },
  {
   "cell_type": "markdown",
   "metadata": {},
   "source": [
    "###  1.1 Mock 3 values Wave amplitudes"
   ]
  },
  {
   "cell_type": "code",
   "execution_count": 77,
   "metadata": {},
   "outputs": [
    {
     "name": "stdout",
     "output_type": "stream",
     "text": [
      "[0.00111111+0.j 0.99999877+0.j 0.00111111+0.j]\n"
     ]
    }
   ],
   "source": [
    "psi = np.array([0.5, 0.7, 0.5], dtype=complex) # complex wavefunction\n",
    "psi /= np.linalg.norm(psi)  # Normalize the wavefunction\n",
    "print(psi)"
   ]
  },
  {
   "cell_type": "markdown",
   "metadata": {},
   "source": [
    "### 1.2 Prepare Quantum Circuit with 3 qubits and 3 classical bits as registers\n",
    "As discussed in the paper, each qubit represents a discrete position.\n",
    "\n",
    "So n positions require n qubits, not the most optimal solution."
   ]
  },
  {
   "cell_type": "code",
   "execution_count": 78,
   "metadata": {},
   "outputs": [],
   "source": [
    "qc = QuantumCircuit(3, 3)"
   ]
  },
  {
   "cell_type": "markdown",
   "metadata": {},
   "source": [
    "### 1.3 Rotating into correct state vector"
   ]
  },
  {
   "cell_type": "markdown",
   "metadata": {},
   "source": [
    "#### 1.3.1 - Probability Tree"
   ]
  },
  {
   "cell_type": "markdown",
   "metadata": {},
   "source": [
    "```plaintext\n",
    "Amplitude Tree for |ψ> = c1|100> + c2|010> + c3|001>\n",
    "\n",
    "Start: |000>  (amplitude = 1)\n",
    "│\n",
    "├─ R_y(θ1) on q0\n",
    "│   ├─ |100> :  sin(θ1/2) = c1\n",
    "│   └─ |000> :  cos(θ1/2) = √(1 - c1²)\n",
    "│\n",
    "├─ Controlled R_y(θ2) on q1  (control q0 = 0)\n",
    "│   ├─ |010> :  √(1 - c1²) * sin(θ2/2) = c2\n",
    "│   └─ |000> :  √(1 - c1²) * cos(θ2/2) = √(1 - c1² - c2²)\n",
    "│\n",
    "└─ Controlled R_y(θ3) on q2  (controls q0 = 0, q1 = 0)\n",
    "    ├─ |001> :  √(1 - c1² - c2²) * sin(θ3/2) = c3\n",
    "    └─ |000> :  √(1 - c1² - c2²) * cos(θ3/2) = 0\n",
    "```"
   ]
  },
  {
   "cell_type": "markdown",
   "metadata": {},
   "source": [
    "Start: |000>\n",
    "\n",
    "1. Rotate qubit 0: \n",
    "$|\\psi\\rangle' = cos(\\theta_1/2)*|000\\rangle+sin(\\theta_1/2)*|100\\rangle$\n",
    "\n",
    "```plaintext\n",
    "    ry(theta, qubit, label=None)\n",
    "```"
   ]
  },
  {
   "cell_type": "code",
   "execution_count": 79,
   "metadata": {},
   "outputs": [
    {
     "data": {
      "text/plain": [
       "<qiskit.circuit.instructionset.InstructionSet at 0x10de944c0>"
      ]
     },
     "execution_count": 79,
     "metadata": {},
     "output_type": "execute_result"
    }
   ],
   "source": [
    "theta1 = 2*np.arcsin(psi[0]).real\n",
    "qc.ry(theta1, 0)"
   ]
  },
  {
   "cell_type": "markdown",
   "metadata": {},
   "source": [
    "2. Controlled rotation of qubit 1, ctrl being qubit 0:\n",
    "\n",
    "```plaintext\n",
    "    cry(theta, control_qubit, target_qubit, label=None, ctrl_state=None)\n",
    "```"
   ]
  },
  {
   "cell_type": "code",
   "execution_count": 80,
   "metadata": {},
   "outputs": [
    {
     "data": {
      "text/plain": [
       "<qiskit.circuit.instructionset.InstructionSet at 0x10dfa4c40>"
      ]
     },
     "execution_count": 80,
     "metadata": {},
     "output_type": "execute_result"
    }
   ],
   "source": [
    "theta2 = 2*np.arcsin(psi[1]/np.sqrt(1-psi[0]**2)).real\n",
    "qc.cry(theta2, 0, 1, ctrl_state=0)"
   ]
  },
  {
   "cell_type": "markdown",
   "metadata": {},
   "source": [
    "3. Multi controlled rotation of qubit 2, ctrl being qubits 0 and 1\n",
    "\n",
    "Visualization:\n",
    "```plaintext\n",
    "| Original (q0, q1) | After first Xs | Controlled gate acts? | After last Xs (restored) |\n",
    "|--------------------|----------------|------------------------|---------------------------|\n",
    "| 00                 | 11             | ✅ Yes                 | 00                        |\n",
    "| 01                 | 10             | ❌ No                  | 01                        |\n",
    "| 10                 | 01             | ❌ No                  | 10                        |\n",
    "| 11                 | 00             | ❌ No                  | 11                        |\n",
    "\n",
    "```"
   ]
  },
  {
   "cell_type": "code",
   "execution_count": 81,
   "metadata": {},
   "outputs": [
    {
     "data": {
      "text/plain": [
       "<qiskit.circuit.instructionset.InstructionSet at 0x10dfa49d0>"
      ]
     },
     "execution_count": 81,
     "metadata": {},
     "output_type": "execute_result"
    }
   ],
   "source": [
    "theta3 = 2*np.arcsin(psi[2]/np.sqrt(1-psi[0]**2-psi[1]**2)).real\n",
    "qc.x(0)\n",
    "qc.x(1)\n",
    "qc.mcry(theta3, [0, 1], 2)\n",
    "qc.x(0)\n",
    "qc.x(1)"
   ]
  },
  {
   "cell_type": "markdown",
   "metadata": {},
   "source": [
    "## 2. Unitary transformation in free space\n",
    "\n",
    "$ U(t) = exp(-i*H*\\delta t) $, with H being the Hamiltonian and $ \\hbar \\ = 1 $"
   ]
  },
  {
   "cell_type": "code",
   "execution_count": null,
   "metadata": {},
   "outputs": [],
   "source": []
  },
  {
   "cell_type": "markdown",
   "metadata": {},
   "source": [
    "## 3. Quantum Simulator"
   ]
  },
  {
   "cell_type": "code",
   "execution_count": 82,
   "metadata": {},
   "outputs": [
    {
     "data": {
      "text/plain": [
       "<qiskit.circuit.instructionset.InstructionSet at 0x10dfa4220>"
      ]
     },
     "execution_count": 82,
     "metadata": {},
     "output_type": "execute_result"
    }
   ],
   "source": [
    "qc.measure([0, 1, 2], [0, 1, 2])"
   ]
  },
  {
   "cell_type": "code",
   "execution_count": 83,
   "metadata": {},
   "outputs": [
    {
     "name": "stdout",
     "output_type": "stream",
     "text": [
      "{'010': 1048576}\n"
     ]
    }
   ],
   "source": [
    "backend = QasmSimulator(method='statevector')\n",
    "job = backend.run(qc, shots=np.pow(2,20))\n",
    "result = job.result()\n",
    "\n",
    "counts = result.get_counts()\n",
    "print(counts)"
   ]
  }
 ],
 "metadata": {
  "kernelspec": {
   "display_name": "guppylang",
   "language": "python",
   "name": "python3"
  },
  "language_info": {
   "codemirror_mode": {
    "name": "ipython",
    "version": 3
   },
   "file_extension": ".py",
   "mimetype": "text/x-python",
   "name": "python",
   "nbconvert_exporter": "python",
   "pygments_lexer": "ipython3",
   "version": "3.13.7"
  }
 },
 "nbformat": 4,
 "nbformat_minor": 2
}
