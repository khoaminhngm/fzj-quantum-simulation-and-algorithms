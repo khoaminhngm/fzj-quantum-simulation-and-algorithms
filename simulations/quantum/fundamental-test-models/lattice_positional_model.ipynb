{
 "cells": [
  {
   "cell_type": "markdown",
   "metadata": {},
   "source": [
    "# Quantum Simulation of a free Schrödinger Wave\n",
    "This implementation is based upon the paper **\"Simulating Quantum Mechanics on a Quantum Computer\"** attached in /research"
   ]
  },
  {
   "cell_type": "code",
   "execution_count": null,
   "metadata": {},
   "outputs": [],
   "source": [
    "from qiskit import QuantumCircuit as QC\n",
    "from qiskit import transpile\n",
    "from qiskit.circuit.library import iSwapGate\n",
    "import numpy as np\n",
    "from itertools import product\n",
    "from qiskit_aer import QasmSimulator"
   ]
  },
  {
   "cell_type": "markdown",
   "metadata": {},
   "source": [
    "## 1. State Preparation\n",
    "Using a recursive controlled rotation algorithm, we match the amplitudes of each qubit state with the given discretized values of the wave equation"
   ]
  },
  {
   "cell_type": "markdown",
   "metadata": {},
   "source": [
    "###  1.1 Mock 3 values Wave amplitudes"
   ]
  },
  {
   "cell_type": "code",
   "execution_count": null,
   "metadata": {},
   "outputs": [],
   "source": [
    "psi = np.array([0.1, 0.1, 0.1 ,0.1, 0.1, 0.1 ,0.7, 0.9, 0.7 ,0.1, 0.1, 0.1 ,0.1, 0.1, 0.1], dtype=complex) # complex wavefunction\n",
    "psi /= np.linalg.norm(psi)  # Normalize the wavefunction\n",
    "print(psi)"
   ]
  },
  {
   "cell_type": "markdown",
   "metadata": {},
   "source": [
    "### 1.2 Prepare Quantum Circuit with 3 qubits and 3 classical bits as registers\n",
    "As discussed in the paper, each qubit represents a discrete position.\n",
    "\n",
    "So n positions require n qubits, not the most optimal solution."
   ]
  },
  {
   "cell_type": "code",
   "execution_count": null,
   "metadata": {},
   "outputs": [],
   "source": [
    "# qc = QC(len(psi), len(psi))"
   ]
  },
  {
   "cell_type": "markdown",
   "metadata": {},
   "source": [
    "### 1.3 Rotating into correct state vector"
   ]
  },
  {
   "cell_type": "markdown",
   "metadata": {},
   "source": [
    "#### 1.3.1 - Probability Tree"
   ]
  },
  {
   "cell_type": "markdown",
   "metadata": {},
   "source": [
    "```plaintext\n",
    "Amplitude Tree for |ψ> = c1|100> + c2|010> + c3|001>\n",
    "\n",
    "Start: |000>  (amplitude = 1)\n",
    "│\n",
    "├─ R_y(θ1) on q0\n",
    "│   ├─ |100> :  sin(θ1/2) = c1\n",
    "│   └─ |000> :  cos(θ1/2) = √(1 - c1²)\n",
    "│\n",
    "├─ Controlled R_y(θ2) on q1  (control q0 = 0)\n",
    "│   ├─ |010> :  √(1 - c1²) * sin(θ2/2) = c2\n",
    "│   └─ |000> :  √(1 - c1²) * cos(θ2/2) = √(1 - c1² - c2²)\n",
    "│\n",
    "└─ Controlled R_y(θ3) on q2  (controls q0 = 0, q1 = 0)\n",
    "    ├─ |001> :  √(1 - c1² - c2²) * sin(θ3/2) = c3\n",
    "    └─ |000> :  √(1 - c1² - c2²) * cos(θ3/2) = 0\n",
    "```"
   ]
  },
  {
   "cell_type": "markdown",
   "metadata": {},
   "source": [
    "Start: |000>\n",
    "\n",
    "1. Rotate qubit 0: \n",
    "$|\\psi\\rangle' = cos(\\theta_1/2)*|000\\rangle+sin(\\theta_1/2)*|100\\rangle$\n",
    "\n",
    "```plaintext\n",
    "    ry(theta, qubit, label=None)\n",
    "```"
   ]
  },
  {
   "cell_type": "code",
   "execution_count": null,
   "metadata": {},
   "outputs": [],
   "source": [
    "# theta1 = 2*np.arcsin(psi[0]).real\n",
    "# qc.ry(theta1, 0)"
   ]
  },
  {
   "cell_type": "markdown",
   "metadata": {},
   "source": [
    "2. Controlled rotation of qubit 1, ctrl being qubit 0:\n",
    "\n",
    "```plaintext\n",
    "    cry(theta, control_qubit, target_qubit, label=None, ctrl_state=None)\n",
    "```"
   ]
  },
  {
   "cell_type": "code",
   "execution_count": null,
   "metadata": {},
   "outputs": [],
   "source": [
    "# theta2 = 2*np.arcsin(psi[1]/np.sqrt(1-psi[0]**2)).real\n",
    "# qc.cry(theta2, 0, 1, ctrl_state=0)"
   ]
  },
  {
   "cell_type": "markdown",
   "metadata": {},
   "source": [
    "3. Multi controlled rotation of qubit 2, ctrl being qubits 0 and 1\n",
    "\n",
    "Visualization:\n",
    "```plaintext\n",
    "| Original (q0, q1) | After first Xs | Controlled gate acts? | After last Xs (restored) |\n",
    "|--------------------|----------------|------------------------|---------------------------|\n",
    "| 00                 | 11             | ✅ Yes                 | 00                        |\n",
    "| 01                 | 10             | ❌ No                  | 01                        |\n",
    "| 10                 | 01             | ❌ No                  | 10                        |\n",
    "| 11                 | 00             | ❌ No                  | 11                        |\n",
    "\n",
    "```"
   ]
  },
  {
   "cell_type": "code",
   "execution_count": null,
   "metadata": {},
   "outputs": [],
   "source": [
    "# theta3 = 2*np.arcsin(psi[2]/np.sqrt(1-psi[0]**2-psi[1]**2)).real\n",
    "# qc.x(0)\n",
    "# qc.x(1)\n",
    "# qc.mcry(theta3, [0, 1], 2)\n",
    "# qc.x(0)\n",
    "# qc.x(1)"
   ]
  },
  {
   "cell_type": "markdown",
   "metadata": {},
   "source": [
    "qubit 4"
   ]
  },
  {
   "cell_type": "code",
   "execution_count": null,
   "metadata": {},
   "outputs": [],
   "source": [
    "# theta4 = 2*np.arcsin(psi[3]/np.sqrt(1-psi[0]**2-psi[1]**2-psi[2]**2)).real\n",
    "# qc.x(0)\n",
    "# qc.x(1)\n",
    "# qc.x(2)\n",
    "# qc.mcry(theta4, [0, 1, 2], 3)\n",
    "# qc.x(0)\n",
    "# qc.x(1)\n",
    "# qc.x(2)"
   ]
  },
  {
   "cell_type": "markdown",
   "metadata": {},
   "source": [
    "qubit 5"
   ]
  },
  {
   "cell_type": "code",
   "execution_count": null,
   "metadata": {},
   "outputs": [],
   "source": [
    "# theta5 = 2*np.arcsin(psi[4]/np.sqrt(1-psi[0]**2-psi[1]**2-psi[2]**2-psi[3]**2)).real\n",
    "# qc.x(0)\n",
    "# qc.x(1)\n",
    "# qc.x(2)\n",
    "# qc.x(3)\n",
    "# qc.mcry(theta5, [0, 1, 2, 3], 4)\n",
    "# qc.x(0)\n",
    "# qc.x(1)\n",
    "# qc.x(2)\n",
    "# qc.x(3)"
   ]
  },
  {
   "cell_type": "markdown",
   "metadata": {},
   "source": [
    "State preparation algo:"
   ]
  },
  {
   "cell_type": "code",
   "execution_count": null,
   "metadata": {},
   "outputs": [],
   "source": [
    "def flip_qubits(qc : QC, qubits : list[int]) -> QC:\n",
    "    for q in qubits:\n",
    "        print(f\"Flipping q{q}\")\n",
    "        qc.x(q)\n",
    "    return qc\n",
    "\n",
    "def state_preparation(qc : QC) -> QC:\n",
    "    controls = [0]\n",
    "    \n",
    "    # Init first qubit\n",
    "    theta1 = 2*np.arcsin(psi[0]).real\n",
    "    qc.ry(theta1, 0)\n",
    "\n",
    "    # # Prepare second qubit\n",
    "    theta2 = 2*np.arcsin(psi[1]/np.sqrt(1-psi[0]**2)).real\n",
    "    qc.cry(theta2, 0, 1, ctrl_state=0)\n",
    "\n",
    "    # Subsequent qubits\n",
    "    for i in range(1, qc.num_qubits - 1): # i+1 -> target\n",
    "        controls.append(i)\n",
    "        print(\"Controls:\", controls)\n",
    "\n",
    "        theta = 2*np.arcsin(\n",
    "            psi[i+1]/np.sqrt(1-sum([abs(psi[j])**2 for j in range(i+1)]))\n",
    "            ).real\n",
    "        \n",
    "        print(\"Theta-loop:\", theta)\n",
    "\n",
    "        theta2 = 2*np.arcsin(psi[1]/np.sqrt(1-psi[0]**2)).real\n",
    "        print(\"Theta 2-manual:\", theta2)\n",
    "        theta3 = 2*np.arcsin(psi[2]/np.sqrt(1-psi[0]**2-psi[1]**2)).real\n",
    "        print(\"Theta 3-manual:\", theta3)\n",
    "\n",
    "        flip_qubits(qc, controls)\n",
    "        qc.mcry(theta, controls, qc.qubits[i+1])\n",
    "        print(f\"Applied mcry with theta={theta} on qubit {i+1} with controls {controls}\")\n",
    "        flip_qubits(qc, controls)\n",
    "\n",
    "    return qc\n",
    "\n",
    "qc = QC(len(psi), len(psi))\n",
    "print(\"Initial circuit: |000>\")\n",
    "qc = state_preparation(qc)"
   ]
  },
  {
   "cell_type": "markdown",
   "metadata": {},
   "source": [
    "## 2. Unitary transformation in free space\n",
    "\n",
    "$ U(t) = exp(-i*H*\\delta t) $, with H being the Hamiltonian and $ \\hbar \\ = 1 $"
   ]
  },
  {
   "cell_type": "code",
   "execution_count": null,
   "metadata": {},
   "outputs": [],
   "source": [
    "b = 0.8660254037844386\n",
    "a = 0.49999999999999994j\n",
    "U = np.matrix([[1, 0, 0, 0],\n",
    "               [0, b, a, 0],\n",
    "               [0, a, b, 1],\n",
    "               [0, 0, 0, 1]])"
   ]
  },
  {
   "cell_type": "markdown",
   "metadata": {},
   "source": [
    "We define:\n",
    "\n",
    "$$\n",
    "b = \\cos(\\theta), \\quad a = i \\sin(\\theta)\n",
    "$$\n",
    "\n",
    "The two-qubit state is written as:\n",
    "\n",
    "$$\n",
    "|\\psi\\rangle = c_{00}|00\\rangle + c_{01}|01\\rangle + c_{10}|10\\rangle + c_{11}|11\\rangle\n",
    "$$\n",
    "\n",
    "After applying \\(U\\), the coefficients transform as:\n",
    "\n",
    "$$\n",
    "\\begin{aligned}\n",
    "c'_{00} &= c_{00},\\\\[4pt]\n",
    "\\begin{pmatrix}\n",
    "c'_{01}\\\\\n",
    "c'_{10}\n",
    "\\end{pmatrix}\n",
    "&=\n",
    "\\begin{pmatrix}\n",
    "\\cos\\theta & i\\sin\\theta\\\\\n",
    "i\\sin\\theta & \\cos\\theta\n",
    "\\end{pmatrix}\n",
    "\\begin{pmatrix}\n",
    "c_{01}\\\\\n",
    "c_{10}\n",
    "\\end{pmatrix},\\\\[4pt]\n",
    "c'_{11} &= c_{11}.\n",
    "\\end{aligned}\n",
    "$$\n",
    "\n",
    "The corresponding matrix representation (in the basis $|00\\rangle, |01\\rangle, |10\\rangle, |11\\rangle$) is:\n",
    "\n",
    "$$\n",
    "U =\n",
    "\\left(\n",
    "\\begin{array}{c|cccc}\n",
    " & |00\\rangle & |01\\rangle & |10\\rangle & |11\\rangle \\\\ \\hline\n",
    "|00\\rangle & 1 & 0 & 0 & 0 \\\\\n",
    "|01\\rangle & 0 & \\cos\\theta & i\\sin\\theta & 0 \\\\\n",
    "|10\\rangle & 0 & i\\sin\\theta & \\cos\\theta & 0 \\\\\n",
    "|11\\rangle & 0 & 0 & 0 & 1\n",
    "\\end{array}\n",
    "\\right)\n",
    "$$\n"
   ]
  },
  {
   "cell_type": "code",
   "execution_count": null,
   "metadata": {},
   "outputs": [],
   "source": [
    "def time_transform(circuit: QC, U: np.matrix):\n",
    "    theta = np.arccos(U[1,1].real)\n",
    "    # theta = np.pi/2  # Example fixed angle for demonstration\n",
    "    n = range(circuit.num_qubits - 1)\n",
    "    for i in n:\n",
    "        circuit.rxx(-theta, circuit.qubits[i], circuit.qubits[i+1])\n",
    "        circuit.ryy(-theta, circuit.qubits[i], circuit.qubits[i+1])\n",
    "    return circuit"
   ]
  },
  {
   "cell_type": "markdown",
   "metadata": {},
   "source": [
    "## 3. Time Evolution"
   ]
  },
  {
   "cell_type": "code",
   "execution_count": null,
   "metadata": {},
   "outputs": [],
   "source": [
    "for i in range(np.pow(10, 4)):\n",
    "    qc = time_transform(qc, U)"
   ]
  },
  {
   "cell_type": "markdown",
   "metadata": {},
   "source": [
    "## 4. Quantum Simulator - Measurement"
   ]
  },
  {
   "cell_type": "code",
   "execution_count": null,
   "metadata": {},
   "outputs": [],
   "source": [
    "measure_list = []\n",
    "for i in range(0, qc.num_qubits):\n",
    "    measure_list.append(i)\n",
    "qc.measure(measure_list, measure_list)\n",
    "print(measure_list)"
   ]
  },
  {
   "cell_type": "code",
   "execution_count": null,
   "metadata": {},
   "outputs": [],
   "source": [
    "backend = QasmSimulator(method='statevector')\n",
    "job = backend.run(qc, shots=np.pow(2,13))\n",
    "result = job.result()\n",
    "\n",
    "counts = result.get_counts()\n",
    "print(counts)"
   ]
  },
  {
   "cell_type": "markdown",
   "metadata": {},
   "source": [
    "## 5. Map into np array"
   ]
  },
  {
   "cell_type": "code",
   "execution_count": null,
   "metadata": {},
   "outputs": [],
   "source": [
    "# --- total number of shots\n",
    "shots = sum(counts.values())\n",
    "\n",
    "# --- all 5-qubit basis states (2^5 = 32)\n",
    "states = [''.join(bits) for bits in product('01', repeat=qc.num_qubits)]\n",
    "\n",
    "# --- convert counts → probabilities\n",
    "pvec = np.array([counts.get(s, 0) / shots for s in states])\n",
    "\n",
    "# --- make a matching NumPy array of state labels\n",
    "states_arr = np.array(states)\n",
    "\n",
    "# --- eliminate zero components\n",
    "mask = pvec > 0\n",
    "pvec_nonzero = pvec[mask]\n",
    "states_nonzero = states_arr[mask]\n",
    "\n",
    "# --- (optional) compute amplitudes from probabilities\n",
    "amps_nonzero = np.sqrt(pvec_nonzero)\n",
    "\n",
    "# --- pretty print results\n",
    "print(\"Non-zero states:\", states_nonzero)\n",
    "print(\"Probabilities:\", pvec_nonzero)\n",
    "print(\"Amplitudes:\", amps_nonzero)\n",
    "\n",
    "# --- optional: combine into a dictionary\n",
    "filtered = dict(zip(states_nonzero, pvec_nonzero))\n",
    "filtered_amps = dict(zip(states_nonzero, amps_nonzero))\n",
    "print(\"Dictionary (probabilities):\", filtered)\n",
    "print(\"Dictionary (amplitudes):\", filtered_amps)\n"
   ]
  },
  {
   "cell_type": "markdown",
   "metadata": {},
   "source": [
    "## 6. Dispersion factor Calculator"
   ]
  },
  {
   "cell_type": "code",
   "execution_count": null,
   "metadata": {},
   "outputs": [],
   "source": [
    "def dispersion_factor(initial_psi: np.ndarray, final_amps: np.ndarray) -> float:\n",
    "    \"\"\"\n",
    "    Compare initial and final amplitude distributions to quantify dispersion.\n",
    "    Returns a number in [0, 1]:\n",
    "        0 = identical distributions (no spread)\n",
    "        1 = fully different / maximally dispersed\n",
    "    \"\"\"\n",
    "    # --- Normalize both wavefunctions\n",
    "    p_init = np.abs(initial_psi)**2\n",
    "    p_init /= p_init.sum()\n",
    "    \n",
    "    p_final = np.abs(final_amps)**2\n",
    "    p_final /= p_final.sum()\n",
    "    \n",
    "    # --- Compute cosine similarity of the two probability vectors\n",
    "    numerator = np.sum(p_init * p_final)\n",
    "    denom = np.sqrt(np.sum(p_init**2) * np.sum(p_final**2))\n",
    "    similarity = numerator / denom if denom != 0 else 0.0\n",
    "    \n",
    "    # --- Dispersion factor (1 - similarity)\n",
    "    dispersion = 1 - similarity\n",
    "    return dispersion\n",
    "\n",
    "print(f\"Dispersion factor: {dispersion_factor(psi, amps_nonzero)}\")"
   ]
  },
  {
   "cell_type": "markdown",
   "metadata": {},
   "source": [
    "## 7. Test with iSwap given theta = pi/6"
   ]
  },
  {
   "cell_type": "markdown",
   "metadata": {},
   "source": [
    "1. Reinitialize qubit states"
   ]
  },
  {
   "cell_type": "code",
   "execution_count": null,
   "metadata": {},
   "outputs": [],
   "source": [
    "# qc_test = QC(3, 3)\n",
    "\n",
    "# theta1 = 2*np.arcsin(psi[0]).real\n",
    "# qc_test.ry(theta1, 0)\n",
    "\n",
    "# theta2 = 2*np.arcsin(psi[1]/np.sqrt(1-psi[0]**2)).real\n",
    "# qc_test.cry(theta2, 0, 1, ctrl_state=0)\n",
    "\n",
    "# theta3 = 2*np.arcsin(psi[2]/np.sqrt(1-psi[0]**2-psi[1]**2)).real\n",
    "# qc_test.x(0)\n",
    "# qc_test.x(1)\n",
    "# qc_test.mcry(theta3, [0, 1], 2)\n",
    "# qc_test.x(0)\n",
    "# qc_test.x(1)"
   ]
  },
  {
   "cell_type": "markdown",
   "metadata": {},
   "source": [
    "2. Transform using iSwap gates\n",
    "\n",
    "    IBM iSwap Docs: https://quantum.cloud.ibm.com/docs/en/api/qiskit/qiskit.circuit.library.iSwapGate"
   ]
  },
  {
   "cell_type": "code",
   "execution_count": null,
   "metadata": {},
   "outputs": [],
   "source": [
    "# n = range(qc_test.num_qubits - 1)\n",
    "# for i in range(2):\n",
    "#     for k in n:\n",
    "#         qc_test.iswap(k, k+1)"
   ]
  },
  {
   "cell_type": "markdown",
   "metadata": {},
   "source": [
    "3. Measure"
   ]
  },
  {
   "cell_type": "code",
   "execution_count": null,
   "metadata": {},
   "outputs": [],
   "source": [
    "# qc_test.measure([0, 1, 2], [0, 1, 2])\n",
    "\n",
    "# backend_test = QasmSimulator(method='statevector')\n",
    "# qc_test = transpile(qc_test, backend=backend_test, basis_gates=['u3', 'cx'])\n",
    "# job_test = backend.run(qc_test, shots=np.pow(2,20))\n",
    "# result_test = job_test.result()\n",
    "\n",
    "# counts_test = result_test.get_counts()\n",
    "# print(counts)"
   ]
  }
 ],
 "metadata": {
  "kernelspec": {
   "display_name": "guppylang",
   "language": "python",
   "name": "python3"
  },
  "language_info": {
   "codemirror_mode": {
    "name": "ipython",
    "version": 3
   },
   "file_extension": ".py",
   "mimetype": "text/x-python",
   "name": "python",
   "nbconvert_exporter": "python",
   "pygments_lexer": "ipython3",
   "version": "3.13.7"
  }
 },
 "nbformat": 4,
 "nbformat_minor": 2
}
